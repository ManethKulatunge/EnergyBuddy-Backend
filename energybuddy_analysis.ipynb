{
  "nbformat": 4,
  "nbformat_minor": 0,
  "metadata": {
    "colab": {
      "name": "ConUHacks",
      "version": "0.3.2",
      "provenance": [],
      "collapsed_sections": []
    },
    "kernelspec": {
      "name": "python3",
      "display_name": "Python 3"
    },
    "accelerator": "GPU"
  },
  "cells": [
    {
      "metadata": {
        "id": "a2OjtniGLlIq",
        "colab_type": "code",
        "colab": {}
      },
      "cell_type": "code",
      "source": [
        "import numpy as np\n",
        "import pandas as pd\n",
        "import matplotlib.pyplot as plt\n",
        "from google.colab import files\n",
        "\n",
        "uploaded = files.upload()"
      ],
      "execution_count": 0,
      "outputs": []
    },
    {
      "metadata": {
        "id": "Yecnf380o4bf",
        "colab_type": "code",
        "colab": {}
      },
      "cell_type": "code",
      "source": [
        "cities = ['Vancouver', 'Portland', 'San Francisco', 'Seattle',\n",
        "       'Los Angeles', 'San Diego', 'Las Vegas', 'Phoenix', 'Albuquerque',\n",
        "       'Denver', 'San Antonio', 'Dallas', 'Houston', 'Kansas City',\n",
        "       'Minneapolis', 'Saint Louis', 'Chicago', 'Nashville', 'Indianapolis',\n",
        "       'Atlanta', 'Detroit', 'Jacksonville', 'Charlotte', 'Miami',\n",
        "       'Pittsburgh', 'Toronto', 'Philadelphia', 'New York', 'Montreal',\n",
        "       'Boston']"
      ],
      "execution_count": 0,
      "outputs": []
    },
    {
      "metadata": {
        "id": "oxWEfKNmPpgo",
        "colab_type": "code",
        "colab": {}
      },
      "cell_type": "code",
      "source": [
        "weather_description_df = pd.read_csv(\"weather_description.csv\")\n",
        "file_read = file_read.drop(columns=['datetime', 'Beersheba', 'Tel Aviv District', 'Eilat', 'Haifa','Nahariyya', 'Jerusalem'])"
      ],
      "execution_count": 0,
      "outputs": []
    },
    {
      "metadata": {
        "id": "l5tOnhnHMh4E",
        "colab_type": "code",
        "colab": {}
      },
      "cell_type": "code",
      "source": [
        "solar_desc_index = {'mist':3, 'sky is clear':10, 'few clouds':8, 'overcast clouds':5,\n",
        " 'scattered clouds':6, 'broken clouds':5, 'light intensity drizzle':0, 'light rain':0,\n",
        " 'fog':4, 'haze':5, 'heavy snow':0, 'dust':7, 'proximity thunderstorm':0,\n",
        " 'thunderstorm with rain':0, 'thunderstorm':0, 'thunderstorm with heavy rain':0,\n",
        " 'heavy intensity rain':0, 'moderate rain':0, 'drizzle':0,\n",
        " 'heavy intensity drizzle':0, 'thunderstorm with light rain':0,\n",
        " 'proximity thunderstorm with rain':0, 'thunderstorm with heavy drizzle':0,\n",
        " 'very heavy rain':0, 'smoke':5, 'light snow':0, 'snow':0, 'squalls':8,\n",
        " 'thunderstorm with light drizzle':0, 'tornado':3, 'thunderstorm with drizzle':0,\n",
        " 'proximity shower rain':0}"
      ],
      "execution_count": 0,
      "outputs": []
    },
    {
      "metadata": {
        "id": "_RJyFr2TotGb",
        "colab_type": "code",
        "colab": {
          "base_uri": "https://localhost:8080/",
          "height": 462
        },
        "outputId": "cf3abcc6-7d64-4e6a-b89a-c19d2e2bfff2"
      },
      "cell_type": "code",
      "source": [
        "np.unique(weather_description_df[['Vancouver', 'Portland', 'San Francisco', 'Seattle',\n",
        "       'Los Angeles', 'San Diego', 'Las Vegas', 'Phoenix', 'Albuquerque',\n",
        "       'Denver', 'San Antonio', 'Dallas', 'Houston', 'Kansas City',\n",
        "       'Minneapolis', 'Saint Louis', 'Chicago', 'Nashville', 'Indianapolis',\n",
        "       'Atlanta', 'Detroit', 'Jacksonville', 'Charlotte', 'Miami',\n",
        "       'Pittsburgh', 'Toronto', 'Philadelphia', 'New York', 'Montreal',\n",
        "       'Boston']].values)\n",
        "\n"
      ],
      "execution_count": 88,
      "outputs": [
        {
          "output_type": "error",
          "ename": "TypeError",
          "evalue": "ignored",
          "traceback": [
            "\u001b[0;31m---------------------------------------------------------------------------\u001b[0m",
            "\u001b[0;31mTypeError\u001b[0m                                 Traceback (most recent call last)",
            "\u001b[0;32m<ipython-input-88-d437c75ab251>\u001b[0m in \u001b[0;36m<module>\u001b[0;34m()\u001b[0m\n\u001b[1;32m      5\u001b[0m        \u001b[0;34m'Atlanta'\u001b[0m\u001b[0;34m,\u001b[0m \u001b[0;34m'Detroit'\u001b[0m\u001b[0;34m,\u001b[0m \u001b[0;34m'Jacksonville'\u001b[0m\u001b[0;34m,\u001b[0m \u001b[0;34m'Charlotte'\u001b[0m\u001b[0;34m,\u001b[0m \u001b[0;34m'Miami'\u001b[0m\u001b[0;34m,\u001b[0m\u001b[0;34m\u001b[0m\u001b[0;34m\u001b[0m\u001b[0m\n\u001b[1;32m      6\u001b[0m        \u001b[0;34m'Pittsburgh'\u001b[0m\u001b[0;34m,\u001b[0m \u001b[0;34m'Toronto'\u001b[0m\u001b[0;34m,\u001b[0m \u001b[0;34m'Philadelphia'\u001b[0m\u001b[0;34m,\u001b[0m \u001b[0;34m'New York'\u001b[0m\u001b[0;34m,\u001b[0m \u001b[0;34m'Montreal'\u001b[0m\u001b[0;34m,\u001b[0m\u001b[0;34m\u001b[0m\u001b[0;34m\u001b[0m\u001b[0m\n\u001b[0;32m----> 7\u001b[0;31m        'Boston']].values)\n\u001b[0m",
            "\u001b[0;32m/usr/local/lib/python3.6/dist-packages/numpy/lib/arraysetops.py\u001b[0m in \u001b[0;36munique\u001b[0;34m(ar, return_index, return_inverse, return_counts, axis)\u001b[0m\n\u001b[1;32m    221\u001b[0m     \u001b[0mar\u001b[0m \u001b[0;34m=\u001b[0m \u001b[0mnp\u001b[0m\u001b[0;34m.\u001b[0m\u001b[0masanyarray\u001b[0m\u001b[0;34m(\u001b[0m\u001b[0mar\u001b[0m\u001b[0;34m)\u001b[0m\u001b[0;34m\u001b[0m\u001b[0;34m\u001b[0m\u001b[0m\n\u001b[1;32m    222\u001b[0m     \u001b[0;32mif\u001b[0m \u001b[0maxis\u001b[0m \u001b[0;32mis\u001b[0m \u001b[0;32mNone\u001b[0m\u001b[0;34m:\u001b[0m\u001b[0;34m\u001b[0m\u001b[0;34m\u001b[0m\u001b[0m\n\u001b[0;32m--> 223\u001b[0;31m         \u001b[0;32mreturn\u001b[0m \u001b[0m_unique1d\u001b[0m\u001b[0;34m(\u001b[0m\u001b[0mar\u001b[0m\u001b[0;34m,\u001b[0m \u001b[0mreturn_index\u001b[0m\u001b[0;34m,\u001b[0m \u001b[0mreturn_inverse\u001b[0m\u001b[0;34m,\u001b[0m \u001b[0mreturn_counts\u001b[0m\u001b[0;34m)\u001b[0m\u001b[0;34m\u001b[0m\u001b[0;34m\u001b[0m\u001b[0m\n\u001b[0m\u001b[1;32m    224\u001b[0m     \u001b[0;32mif\u001b[0m \u001b[0;32mnot\u001b[0m \u001b[0;34m(\u001b[0m\u001b[0;34m-\u001b[0m\u001b[0mar\u001b[0m\u001b[0;34m.\u001b[0m\u001b[0mndim\u001b[0m \u001b[0;34m<=\u001b[0m \u001b[0maxis\u001b[0m \u001b[0;34m<\u001b[0m \u001b[0mar\u001b[0m\u001b[0;34m.\u001b[0m\u001b[0mndim\u001b[0m\u001b[0;34m)\u001b[0m\u001b[0;34m:\u001b[0m\u001b[0;34m\u001b[0m\u001b[0;34m\u001b[0m\u001b[0m\n\u001b[1;32m    225\u001b[0m         \u001b[0;32mraise\u001b[0m \u001b[0mValueError\u001b[0m\u001b[0;34m(\u001b[0m\u001b[0;34m'Invalid axis kwarg specified for unique'\u001b[0m\u001b[0;34m)\u001b[0m\u001b[0;34m\u001b[0m\u001b[0;34m\u001b[0m\u001b[0m\n",
            "\u001b[0;32m/usr/local/lib/python3.6/dist-packages/numpy/lib/arraysetops.py\u001b[0m in \u001b[0;36m_unique1d\u001b[0;34m(ar, return_index, return_inverse, return_counts)\u001b[0m\n\u001b[1;32m    281\u001b[0m         \u001b[0maux\u001b[0m \u001b[0;34m=\u001b[0m \u001b[0mar\u001b[0m\u001b[0;34m[\u001b[0m\u001b[0mperm\u001b[0m\u001b[0;34m]\u001b[0m\u001b[0;34m\u001b[0m\u001b[0;34m\u001b[0m\u001b[0m\n\u001b[1;32m    282\u001b[0m     \u001b[0;32melse\u001b[0m\u001b[0;34m:\u001b[0m\u001b[0;34m\u001b[0m\u001b[0;34m\u001b[0m\u001b[0m\n\u001b[0;32m--> 283\u001b[0;31m         \u001b[0mar\u001b[0m\u001b[0;34m.\u001b[0m\u001b[0msort\u001b[0m\u001b[0;34m(\u001b[0m\u001b[0;34m)\u001b[0m\u001b[0;34m\u001b[0m\u001b[0;34m\u001b[0m\u001b[0m\n\u001b[0m\u001b[1;32m    284\u001b[0m         \u001b[0maux\u001b[0m \u001b[0;34m=\u001b[0m \u001b[0mar\u001b[0m\u001b[0;34m\u001b[0m\u001b[0;34m\u001b[0m\u001b[0m\n\u001b[1;32m    285\u001b[0m     \u001b[0mflag\u001b[0m \u001b[0;34m=\u001b[0m \u001b[0mnp\u001b[0m\u001b[0;34m.\u001b[0m\u001b[0mconcatenate\u001b[0m\u001b[0;34m(\u001b[0m\u001b[0;34m(\u001b[0m\u001b[0;34m[\u001b[0m\u001b[0;32mTrue\u001b[0m\u001b[0;34m]\u001b[0m\u001b[0;34m,\u001b[0m \u001b[0maux\u001b[0m\u001b[0;34m[\u001b[0m\u001b[0;36m1\u001b[0m\u001b[0;34m:\u001b[0m\u001b[0;34m]\u001b[0m \u001b[0;34m!=\u001b[0m \u001b[0maux\u001b[0m\u001b[0;34m[\u001b[0m\u001b[0;34m:\u001b[0m\u001b[0;34m-\u001b[0m\u001b[0;36m1\u001b[0m\u001b[0;34m]\u001b[0m\u001b[0;34m)\u001b[0m\u001b[0;34m)\u001b[0m\u001b[0;34m\u001b[0m\u001b[0;34m\u001b[0m\u001b[0m\n",
            "\u001b[0;31mTypeError\u001b[0m: '<' not supported between instances of 'str' and 'float'"
          ]
        }
      ]
    },
    {
      "metadata": {
        "id": "GE9Qo2COwIkn",
        "colab_type": "code",
        "colab": {
          "base_uri": "https://localhost:8080/",
          "height": 691
        },
        "outputId": "b8aef2a5-9dc0-4ba1-9cef-26588acdc371"
      },
      "cell_type": "code",
      "source": [
        "#from functools import reduce\n",
        "#for i in range(1,29):\n",
        "set(weather_description_df.iloc[:,1]).union(set(weather_description_df.iloc[2]))"
      ],
      "execution_count": 122,
      "outputs": [
        {
          "output_type": "execute_result",
          "data": {
            "text/plain": [
              "{'2012-10-01 14:00:00',\n",
              " 'broken clouds',\n",
              " 'drizzle',\n",
              " 'dust',\n",
              " 'few clouds',\n",
              " 'fog',\n",
              " 'haze',\n",
              " 'heavy intensity rain',\n",
              " 'heavy intensity shower rain',\n",
              " 'heavy shower snow',\n",
              " 'heavy snow',\n",
              " 'light intensity drizzle',\n",
              " 'light intensity drizzle rain',\n",
              " 'light intensity shower rain',\n",
              " 'light rain',\n",
              " 'light rain and snow',\n",
              " 'light shower sleet',\n",
              " 'light shower snow',\n",
              " 'light snow',\n",
              " 'mist',\n",
              " 'moderate rain',\n",
              " nan,\n",
              " 'overcast clouds',\n",
              " 'proximity shower rain',\n",
              " 'proximity thunderstorm',\n",
              " 'ragged thunderstorm',\n",
              " 'scattered clouds',\n",
              " 'shower rain',\n",
              " 'shower snow',\n",
              " 'sky is clear',\n",
              " 'sleet',\n",
              " 'smoke',\n",
              " 'snow',\n",
              " 'thunderstorm',\n",
              " 'thunderstorm with heavy rain',\n",
              " 'thunderstorm with light rain',\n",
              " 'thunderstorm with rain',\n",
              " 'very heavy rain',\n",
              " 'volcanic ash'}"
            ]
          },
          "metadata": {
            "tags": []
          },
          "execution_count": 122
        }
      ]
    },
    {
      "metadata": {
        "id": "6Jy2-pdYWmw-",
        "colab_type": "code",
        "colab": {
          "base_uri": "https://localhost:8080/",
          "height": 155
        },
        "outputId": "f2996c4e-73c1-457e-8828-6bf71e304e5d"
      },
      "cell_type": "code",
      "source": [
        "city_attributes_df = pd.read_csv(\"city_attributes.csv\")\n",
        "city_attributes_df[\"City\"].unique()"
      ],
      "execution_count": 37,
      "outputs": [
        {
          "output_type": "execute_result",
          "data": {
            "text/plain": [
              "array(['Vancouver', 'Portland', 'San Francisco', 'Seattle', 'Los Angeles',\n",
              "       'San Diego', 'Las Vegas', 'Phoenix', 'Albuquerque', 'Denver',\n",
              "       'San Antonio', 'Dallas', 'Houston', 'Kansas City', 'Minneapolis',\n",
              "       'Saint Louis', 'Chicago', 'Nashville', 'Indianapolis', 'Atlanta',\n",
              "       'Detroit', 'Jacksonville', 'Charlotte', 'Miami', 'Pittsburgh',\n",
              "       'Toronto', 'Philadelphia', 'New York', 'Montreal', 'Boston',\n",
              "       'Beersheba', 'Tel Aviv District', 'Eilat', 'Haifa', 'Nahariyya',\n",
              "       'Jerusalem'], dtype=object)"
            ]
          },
          "metadata": {
            "tags": []
          },
          "execution_count": 37
        }
      ]
    },
    {
      "metadata": {
        "id": "MJBBX2k3ix33",
        "colab_type": "text"
      },
      "cell_type": "markdown",
      "source": [
        ""
      ]
    },
    {
      "metadata": {
        "id": "4c3jAIdPT1AJ",
        "colab_type": "code",
        "colab": {}
      },
      "cell_type": "code",
      "source": [
        "wind_speed_df = pd.read_csv(\"wind_speed.csv\")"
      ],
      "execution_count": 0,
      "outputs": []
    },
    {
      "metadata": {
        "id": "7gcUDtLfWkmd",
        "colab_type": "code",
        "colab": {
          "base_uri": "https://localhost:8080/",
          "height": 52
        },
        "outputId": "90b0f87f-7946-4fb7-9bde-1e2630c722fe"
      },
      "cell_type": "code",
      "source": [
        "wind_speed_df[\"Toronto\"].unique()"
      ],
      "execution_count": 35,
      "outputs": [
        {
          "output_type": "execute_result",
          "data": {
            "text/plain": [
              "array([nan,  3.,  5.,  1.,  0.,  2.,  4.,  8.,  6.,  7., 12., 10.,  9.,\n",
              "       11., 15., 13., 14., 18., 17., 19., 16.])"
            ]
          },
          "metadata": {
            "tags": []
          },
          "execution_count": 35
        }
      ]
    },
    {
      "metadata": {
        "id": "YwMAoQ5qd83w",
        "colab_type": "text"
      },
      "cell_type": "markdown",
      "source": [
        "# More stuff"
      ]
    },
    {
      "metadata": {
        "id": "Xj6_JiIThe04",
        "colab_type": "code",
        "colab": {}
      },
      "cell_type": "code",
      "source": [
        "import pandas as pd\n",
        "import os, math\n",
        "import numpy as np \n",
        "import matplotlib.pyplot as plt \n",
        "import sklearn\n",
        "from sklearn.cluster import KMeans"
      ],
      "execution_count": 0,
      "outputs": []
    },
    {
      "metadata": {
        "id": "lETRefSohbd6",
        "colab_type": "code",
        "colab": {
          "base_uri": "https://localhost:8080/",
          "height": 570
        },
        "outputId": "f29c8097-55e7-47b1-c9cf-f69a48429d0c"
      },
      "cell_type": "code",
      "source": [
        "file_read = pd.read_csv('weather_description.csv')\n",
        "file_read = file_read.drop(columns=['datetime', 'Beersheba', 'Tel Aviv District', 'Eilat', 'Haifa','Nahariyya', 'Jerusalem'])\n",
        "#print(file_read.columns, file_read.shape)\n",
        "#print(file_read.head(5))\n",
        " \n",
        "file_read = file_read.dropna(0)\n",
        "\n",
        "cities = ['Vancouver', 'Portland', 'San Francisco', 'Seattle',\n",
        "       'Los Angeles', 'San Diego', 'Las Vegas', 'Phoenix', 'Albuquerque',\n",
        "       'Denver', 'San Antonio', 'Dallas', 'Houston', 'Kansas City',\n",
        "       'Minneapolis', 'Saint Louis', 'Chicago', 'Nashville', 'Indianapolis',\n",
        "       'Atlanta', 'Detroit', 'Jacksonville', 'Charlotte', 'Miami',\n",
        "       'Pittsburgh', 'Toronto', 'Philadelphia', 'New York', 'Montreal',\n",
        "       'Boston']\n",
        "\n",
        "# dictionary containing reindexing for data\n",
        "solar_desc_index = {'proximity sand/dust whirls':5,\n",
        " 'few clouds':8,\n",
        " 'snow':0,\n",
        " 'mist':3,\n",
        " 'sand':6,\n",
        " 'proximity shower rain':0,\n",
        " 'light shower snow':0,\n",
        " 'heavy intensity drizzle':0,\n",
        " 'proximity thunderstorm with rain':0,\n",
        " 'fog':4,\n",
        " 'heavy intensity rain':0,\n",
        " 'shower snow':0,\n",
        " 'ragged thunderstorm':0,\n",
        " 'freezing rain':0,\n",
        " 'thunderstorm with drizzle':0,\n",
        " 'thunderstorm with heavy rain':0,\n",
        " 'thunderstorm with light drizzle':0,\n",
        " 'light intensity drizzle rain':0,\n",
        " 'light intensity drizzle':0,\n",
        " 'proximity moderate rain':0,\n",
        " 'shower rain':0,\n",
        " 'dust':6,\n",
        " 'proximity thunderstorm':0,\n",
        " 'heavy thunderstorm':0,\n",
        " 'thunderstorm with heavy drizzle':0,\n",
        " 'heavy intensity shower rain':0,\n",
        " 'rain and snow':0,\n",
        " 'scattered clouds':6,\n",
        " 'smoke':4,\n",
        " 'light rain':0,\n",
        " 'thunderstorm with light rain':0,\n",
        " 'haze':5,\n",
        " 'proximity thunderstorm with drizzle':0,\n",
        " 'heavy snow':0,\n",
        " 'thunderstorm with rain':0,\n",
        " 'sand/dust whirls':6,\n",
        " 'overcast clouds':4,\n",
        " 'sleet':0,\n",
        " 'broken clouds':6,\n",
        " 'light shower sleet':0,\n",
        " 'squalls':7,\n",
        " 'moderate rain':0,\n",
        " 'light intensity shower rain':0,\n",
        " 'thunderstorm':0, \n",
        " 'volcanic ash':0,\n",
        " 'tornado':1,\n",
        " 'drizzle':0,\n",
        " 'heavy shower snow':0,\n",
        " 'very heavy rain':0,\n",
        " 'shower drizzle':0,\n",
        " 'sky is clear':10,\n",
        " 'light rain and snow':0,\n",
        " 'light snow':0}\n",
        "\n",
        "file_read = file_read.replace(solar_desc_index)\n",
        "\n",
        "file_read = file_read.mean(axis=0)\n",
        "file_read = pd.DataFrame({'City':file_read.index, 'Sunlight':file_read.values})\n",
        "print(\"file_read \\n\", file_read)\n"
      ],
      "execution_count": 212,
      "outputs": [
        {
          "output_type": "stream",
          "text": [
            "file_read \n",
            "              City  Sunlight\n",
            "0       Vancouver  5.255758\n",
            "1        Portland  5.184750\n",
            "2   San Francisco  5.787742\n",
            "3         Seattle  5.172380\n",
            "4     Los Angeles  7.623842\n",
            "5       San Diego  6.563203\n",
            "6       Las Vegas  8.839564\n",
            "7         Phoenix  8.419253\n",
            "8     Albuquerque  7.251484\n",
            "9          Denver  6.472919\n",
            "10    San Antonio  6.425843\n",
            "11         Dallas  6.548426\n",
            "12        Houston  5.526293\n",
            "13    Kansas City  6.713023\n",
            "14    Minneapolis  5.703599\n",
            "15    Saint Louis  6.542015\n",
            "16        Chicago  5.537607\n",
            "17      Nashville  6.183738\n",
            "18   Indianapolis  5.857040\n",
            "19        Atlanta  6.363000\n",
            "20        Detroit  5.674134\n",
            "21   Jacksonville  5.880184\n",
            "22      Charlotte  6.026406\n",
            "23          Miami  5.233041\n",
            "24     Pittsburgh  5.646626\n",
            "25        Toronto  5.606770\n",
            "26   Philadelphia  5.854206\n",
            "27       New York  5.622042\n",
            "28       Montreal  5.139676\n",
            "29         Boston  5.960166\n"
          ],
          "name": "stdout"
        }
      ]
    },
    {
      "metadata": {
        "id": "2sLOLaZR2LFl",
        "colab_type": "code",
        "colab": {
          "base_uri": "https://localhost:8080/",
          "height": 89
        },
        "outputId": "7c0d569d-5cc3-431f-c1bf-2db0314f806a"
      },
      "cell_type": "code",
      "source": [
        "print(len(solar_desc_index))\n",
        "#from functools import reduce\n",
        "#tmp = file_read.iloc[:,0]\n",
        "#set(weather_description_df.iloc[:,1]).union(set(weather_description_df.iloc[2]))\n",
        "#for i in range(1,29):\n",
        "#  set(tmp).union(set(file_read.iloc[i+1]))\n",
        "\n",
        "my_list = []\n",
        "\n",
        "#print(file_read.iloc[:,2].tolist())\n",
        "\n",
        "for i in range(0,30):\n",
        "  #print(len(file_read.iloc[:,i].tolist()))\n",
        "  my_list += file_read.iloc[:,i].tolist()\n",
        "  #print(len(my_list))\n",
        "\n",
        "'''\n",
        "for f in file_read.columns():\n",
        "  print(f)\n",
        "  vc = file_read[columns='f'].unique().tolist()\n",
        "  print(vc)\n",
        "'''\n",
        "\n",
        "\n",
        "print(len(set(my_list)))\n",
        "#  set(tmp).union(set(file_read.iloc[i+1]))\n",
        "print(set(my_list))"
      ],
      "execution_count": 195,
      "outputs": [
        {
          "output_type": "stream",
          "text": [
            "33\n",
            "53\n",
            "{'proximity sand/dust whirls', 'few clouds', 'snow', 'mist', 'sand', 'proximity shower rain', 'light shower snow', 'heavy intensity drizzle', 'proximity thunderstorm with rain', 'fog', 'heavy intensity rain', 'shower snow', 'ragged thunderstorm', 'freezing rain', 'thunderstorm with drizzle', 'thunderstorm with heavy rain', 'thunderstorm with light drizzle', 'light intensity drizzle rain', 'light intensity drizzle', 'proximity moderate rain', 'shower rain', 'dust', 'proximity thunderstorm', 'heavy thunderstorm', 'thunderstorm with heavy drizzle', 'heavy intensity shower rain', 'rain and snow', 'scattered clouds', 'smoke', 'light rain', 'thunderstorm with light rain', 'haze', 'proximity thunderstorm with drizzle', 'heavy snow', 'thunderstorm with rain', 'sand/dust whirls', 'overcast clouds', 'sleet', 'broken clouds', 'light shower sleet', 'squalls', 'moderate rain', 'light intensity shower rain', 'thunderstorm', 'volcanic ash', 'tornado', 'drizzle', 'heavy shower snow', 'very heavy rain', 'shower drizzle', 'sky is clear', 'light rain and snow', 'light snow'}\n"
          ],
          "name": "stdout"
        }
      ]
    },
    {
      "metadata": {
        "id": "FnUqDgJ09GVP",
        "colab_type": "code",
        "colab": {}
      },
      "cell_type": "code",
      "source": [
        ""
      ],
      "execution_count": 0,
      "outputs": []
    },
    {
      "metadata": {
        "id": "XQ52xTnrly8u",
        "colab_type": "code",
        "colab": {
          "base_uri": "https://localhost:8080/",
          "height": 1624
        },
        "outputId": "d21491a3-e081-4552-cb7a-e5de20d2fe5d"
      },
      "cell_type": "code",
      "source": [
        "file2_read = pd.read_csv('temperature.csv')\n",
        "file2_read = file2_read.drop(columns=['datetime', 'Beersheba', 'Tel Aviv District', 'Eilat', 'Haifa','Nahariyya', 'Jerusalem'])\n",
        "file2_read = file2_read.dropna(axis=0)\n",
        "file2_read = file2_read.apply(lambda x: x - 273.15)\n",
        "file2_read = file2_read.mean(axis=0)\n",
        "file2_read = pd.DataFrame({'City':file2_read.index, 'Temperature':file2_read.values})\n",
        "\n",
        "#file2_read.columns = [\"City\", \"Temperature\"]\n",
        "print(\"file2_read\", file2_read)\n",
        "\n",
        "file3_read = pd.read_csv('wind_speed.csv')\n",
        "file3_read = file3_read.drop(columns=['datetime','Beersheba', 'Tel Aviv District', 'Eilat', 'Haifa','Nahariyya', 'Jerusalem'])\n",
        "file3_read = file3_read.dropna(axis=0)\n",
        "file3_read = file3_read.mean(axis=0)\n",
        "file3_read = pd.DataFrame({'City':file3_read.index, 'Wind_Speed':file3_read.values})\n",
        "\n",
        "#file3_read.columns = [\"City\", \"Wind_Speed\"]\n",
        "print(\"file3_read\", file3_read)\n",
        "\n",
        "from functools import reduce\n",
        "dfs = [file2_read, file3_read]\n",
        "\n",
        "\n",
        "cleaned_weather_data = reduce(lambda left,right: pd.merge(left,right,on=[\"City\"]), dfs)\n",
        "print(cleaned_weather_data)\n"
      ],
      "execution_count": 232,
      "outputs": [
        {
          "output_type": "stream",
          "text": [
            "file2_read              City  Temperature\n",
            "0       Vancouver    10.713083\n",
            "1        Portland    11.900815\n",
            "2   San Francisco    15.007814\n",
            "3         Seattle    11.324745\n",
            "4     Los Angeles    17.693049\n",
            "5       San Diego    17.066553\n",
            "6       Las Vegas    19.328336\n",
            "7         Phoenix    22.383997\n",
            "8     Albuquerque    12.520452\n",
            "9          Denver     9.743255\n",
            "10    San Antonio    20.681384\n",
            "11         Dallas    19.293476\n",
            "12        Houston    21.094262\n",
            "13    Kansas City    13.601501\n",
            "14    Minneapolis     7.671257\n",
            "15    Saint Louis    13.629269\n",
            "16        Chicago    10.304590\n",
            "17      Nashville    15.515358\n",
            "18   Indianapolis    11.727357\n",
            "19        Atlanta    16.708497\n",
            "20        Detroit     9.912837\n",
            "21   Jacksonville    21.244775\n",
            "22      Charlotte    15.847053\n",
            "23          Miami    25.031696\n",
            "24     Pittsburgh    10.999780\n",
            "25        Toronto     8.868732\n",
            "26   Philadelphia    12.301452\n",
            "27       New York    12.250755\n",
            "28       Montreal     7.282352\n",
            "29         Boston    10.695464\n",
            "file3_read              City  Wind_Speed\n",
            "0       Vancouver    2.432555\n",
            "1        Portland    2.018074\n",
            "2   San Francisco    2.786311\n",
            "3         Seattle    2.102703\n",
            "4     Los Angeles    1.222152\n",
            "5       San Diego    1.750816\n",
            "6       Las Vegas    2.458867\n",
            "7         Phoenix    1.904027\n",
            "8     Albuquerque    2.762025\n",
            "9          Denver    2.437485\n",
            "10    San Antonio    3.024511\n",
            "11         Dallas    3.629409\n",
            "12        Houston    2.959711\n",
            "13    Kansas City    3.421144\n",
            "14    Minneapolis    3.376623\n",
            "15    Saint Louis    3.036170\n",
            "16        Chicago    3.752774\n",
            "17      Nashville    2.420536\n",
            "18   Indianapolis    3.216278\n",
            "19        Atlanta    2.227171\n",
            "20        Detroit    3.162439\n",
            "21   Jacksonville    2.833600\n",
            "22      Charlotte    2.382363\n",
            "23          Miami    3.236062\n",
            "24     Pittsburgh    2.496207\n",
            "25        Toronto    3.815526\n",
            "26   Philadelphia    2.620923\n",
            "27       New York    3.210561\n",
            "28       Montreal    3.818249\n",
            "29         Boston    3.379572\n",
            "             City  Temperature  Wind_Speed\n",
            "0       Vancouver    10.713083    2.432555\n",
            "1        Portland    11.900815    2.018074\n",
            "2   San Francisco    15.007814    2.786311\n",
            "3         Seattle    11.324745    2.102703\n",
            "4     Los Angeles    17.693049    1.222152\n",
            "5       San Diego    17.066553    1.750816\n",
            "6       Las Vegas    19.328336    2.458867\n",
            "7         Phoenix    22.383997    1.904027\n",
            "8     Albuquerque    12.520452    2.762025\n",
            "9          Denver     9.743255    2.437485\n",
            "10    San Antonio    20.681384    3.024511\n",
            "11         Dallas    19.293476    3.629409\n",
            "12        Houston    21.094262    2.959711\n",
            "13    Kansas City    13.601501    3.421144\n",
            "14    Minneapolis     7.671257    3.376623\n",
            "15    Saint Louis    13.629269    3.036170\n",
            "16        Chicago    10.304590    3.752774\n",
            "17      Nashville    15.515358    2.420536\n",
            "18   Indianapolis    11.727357    3.216278\n",
            "19        Atlanta    16.708497    2.227171\n",
            "20        Detroit     9.912837    3.162439\n",
            "21   Jacksonville    21.244775    2.833600\n",
            "22      Charlotte    15.847053    2.382363\n",
            "23          Miami    25.031696    3.236062\n",
            "24     Pittsburgh    10.999780    2.496207\n",
            "25        Toronto     8.868732    3.815526\n",
            "26   Philadelphia    12.301452    2.620923\n",
            "27       New York    12.250755    3.210561\n",
            "28       Montreal     7.282352    3.818249\n",
            "29         Boston    10.695464    3.379572\n"
          ],
          "name": "stdout"
        }
      ]
    },
    {
      "metadata": {
        "id": "9WrlXflad6wa",
        "colab_type": "code",
        "colab": {
          "base_uri": "https://localhost:8080/",
          "height": 365
        },
        "outputId": "540b6050-d1cd-41c3-f55f-577d3ab1e261"
      },
      "cell_type": "code",
      "source": [
        "# we load our  concatenate and prepared data\n",
        "#input_data = np.asarray()\n",
        "#clusters = KMeans(n_clusters=2, init=’k-means++’, max_iter=500, tol=0.0001).fit(input_data)\n",
        "\n",
        "#we visualize the data and outputed clusters\n",
        "\n",
        "X = cleaned_weather_data.iloc[:,1:]\n",
        "\n",
        "plt.scatter(X[\"Temperature\"], X[\"Wind_Speed\"], label='True Position')  "
      ],
      "execution_count": 233,
      "outputs": [
        {
          "output_type": "execute_result",
          "data": {
            "text/plain": [
              "<matplotlib.collections.PathCollection at 0x7f0dfbf80940>"
            ]
          },
          "metadata": {
            "tags": []
          },
          "execution_count": 233
        },
        {
          "output_type": "display_data",
          "data": {
            "image/png": "[encoded data removed]",
            "text/plain": [
              "<Figure size 576x396 with 1 Axes>"
            ]
          },
          "metadata": {
            "tags": []
          }
        }
      ]
    },
    {
      "metadata": {
        "id": "2CDgx9cJgXIO",
        "colab_type": "code",
        "colab": {
          "base_uri": "https://localhost:8080/",
          "height": 69
        },
        "outputId": "3a36e292-a3b4-4f09-e3a0-742817150ef4"
      },
      "cell_type": "code",
      "source": [
        "from sklearn.cluster import KMeans\n",
        "\n",
        "kmeans = KMeans(n_clusters=2)\n",
        "kmeans.fit(X)"
      ],
      "execution_count": 234,
      "outputs": [
        {
          "output_type": "execute_result",
          "data": {
            "text/plain": [
              "KMeans(algorithm='auto', copy_x=True, init='k-means++', max_iter=300,\n",
              "    n_clusters=2, n_init=10, n_jobs=None, precompute_distances='auto',\n",
              "    random_state=None, tol=0.0001, verbose=0)"
            ]
          },
          "metadata": {
            "tags": []
          },
          "execution_count": 234
        }
      ]
    },
    {
      "metadata": {
        "id": "tSjCTQBTjVTh",
        "colab_type": "code",
        "colab": {
          "base_uri": "https://localhost:8080/",
          "height": 416
        },
        "outputId": "cb2aee79-30e1-4ad3-bfbd-3b702f204baa"
      },
      "cell_type": "code",
      "source": [
        "print(kmeans.cluster_centers_) \n",
        "print(kmeans.labels_)  \n",
        "plt.scatter(X[\"Temperature\"], X[\"Wind_Speed\"], c=kmeans.labels_, cmap='rainbow')  \n",
        "plt.scatter(kmeans.cluster_centers_[:,0] ,kmeans.cluster_centers_[:,1], color='black')  "
      ],
      "execution_count": 235,
      "outputs": [
        {
          "output_type": "stream",
          "text": [
            "[[19.32403633  2.50410205]\n",
            " [11.13641719  2.99142327]]\n",
            "[1 1 1 1 0 0 0 0 1 1 0 0 0 1 1 1 1 0 1 0 1 0 0 0 1 1 1 1 1 1]\n"
          ],
          "name": "stdout"
        },
        {
          "output_type": "execute_result",
          "data": {
            "text/plain": [
              "<matplotlib.collections.PathCollection at 0x7f0dfc0d0390>"
            ]
          },
          "metadata": {
            "tags": []
          },
          "execution_count": 235
        },
        {
          "output_type": "display_data",
          "data": {
            "image/png": "[encoded data removed]",
            "text/plain": [
              "<Figure size 576x396 with 1 Axes>"
            ]
          },
          "metadata": {
            "tags": []
          }
        }
      ]
    },
    {
      "metadata": {
        "id": "vzI4sGutkMb5",
        "colab_type": "code",
        "colab": {
          "base_uri": "https://localhost:8080/",
          "height": 434
        },
        "outputId": "a5ce04e9-924d-400f-db58-1a1917cce566"
      },
      "cell_type": "code",
      "source": [
        "kmeans3 = KMeans(n_clusters=3)\n",
        "kmeans3.fit(X)\n",
        "\n",
        "print(kmeans3.cluster_centers_) \n",
        "print(kmeans3.labels_)  \n",
        "plt.scatter(X[\"Temperature\"], X[\"Wind_Speed\"], c=kmeans3.labels_, cmap='rainbow')  \n",
        "plt.scatter(kmeans3.cluster_centers_[:,0] ,kmeans3.cluster_centers_[:,1], color='black')  "
      ],
      "execution_count": 71,
      "outputs": [
        {
          "output_type": "stream",
          "text": [
            "[[10.54779503  2.97346628]\n",
            " [15.63363655  2.4058329 ]\n",
            " [21.29398965  2.86374086]]\n",
            "[0 0 1 0 1 1 2 2 0 0 2 2 2 1 0 1 0 1 0 1 0 2 1 2 0 0 0 0 0 0]\n"
          ],
          "name": "stdout"
        },
        {
          "output_type": "execute_result",
          "data": {
            "text/plain": [
              "<matplotlib.collections.PathCollection at 0x7f0e00dafbe0>"
            ]
          },
          "metadata": {
            "tags": []
          },
          "execution_count": 71
        },
        {
          "output_type": "display_data",
          "data": {
            "image/png": "[encoded data removed]",
            "text/plain": [
              "<Figure size 576x396 with 1 Axes>"
            ]
          },
          "metadata": {
            "tags": []
          }
        }
      ]
    },
    {
      "metadata": {
        "id": "x49Id3C2lUpc",
        "colab_type": "code",
        "colab": {
          "base_uri": "https://localhost:8080/",
          "height": 451
        },
        "outputId": "04aff53a-06f2-47dc-e6a0-8b95f00b2b6f"
      },
      "cell_type": "code",
      "source": [
        "kmeans3 = KMeans(n_clusters=4)\n",
        "kmeans3.fit(X)\n",
        "\n",
        "print(kmeans3.cluster_centers_) \n",
        "print(kmeans3.labels_)  \n",
        "\n",
        "plt.scatter(X[\"Temperature\"], X[\"Wind_Speed\"], c=kmeans3.labels_, cmap='rainbow')  \n",
        "plt.scatter(kmeans3.cluster_centers_[:,0] ,kmeans3.cluster_centers_[:,1], color='black')  "
      ],
      "execution_count": 72,
      "outputs": [
        {
          "output_type": "stream",
          "text": [
            "[[ 9.39894621  3.27190292]\n",
            " [16.30638702  2.13155822]\n",
            " [21.29398965  2.86374086]\n",
            " [12.25068066  2.7648983 ]]\n",
            "[0 3 1 3 1 1 2 2 3 0 2 2 2 3 0 3 0 1 3 1 0 2 1 2 3 0 3 3 0 0]\n"
          ],
          "name": "stdout"
        },
        {
          "output_type": "execute_result",
          "data": {
            "text/plain": [
              "<matplotlib.collections.PathCollection at 0x7f0dfc8c0898>"
            ]
          },
          "metadata": {
            "tags": []
          },
          "execution_count": 72
        },
        {
          "output_type": "display_data",
          "data": {
            "image/png": "[encoded data removed]",
            "text/plain": [
              "<Figure size 576x396 with 1 Axes>"
            ]
          },
          "metadata": {
            "tags": []
          }
        }
      ]
    },
    {
      "metadata": {
        "id": "a1JLD3zR1a2r",
        "colab_type": "code",
        "colab": {}
      },
      "cell_type": "code",
      "source": [
        "from sklearn.model_selection import train_test_split\n",
        "\n",
        "input_data = cleaned_weather_data.iloc[:,1:]\n",
        "\n",
        "train_set, test_set = train_test_split(input_data,train_size=0.8, test_size=0.2)\n",
        "\n",
        "# we load our  concatenate and prepared data\n",
        "clusters = KMeans(n_clusters=2, init='k-means++', max_iter=500, tol=0.0001).fit(train_set)"
      ],
      "execution_count": 0,
      "outputs": []
    },
    {
      "metadata": {
        "id": "6p5KM3B2Fmxu",
        "colab_type": "code",
        "colab": {
          "base_uri": "https://localhost:8080/",
          "height": 416
        },
        "outputId": "d22686ea-a02a-4790-d6b5-9df5a97f183f"
      },
      "cell_type": "code",
      "source": [
        "clusters.fit(input_data)\n",
        "\n",
        "print(clusters.cluster_centers_) \n",
        "print(clusters.labels_)  \n",
        "\n",
        "plt.scatter(input_data[\"Temperature\"], input_data[\"Wind_Speed\"], c=clusters.labels_, cmap='rainbow')  \n",
        "plt.scatter(clusters.cluster_centers_[:,0] ,clusters.cluster_centers_[:,1], color='black')  "
      ],
      "execution_count": 288,
      "outputs": [
        {
          "output_type": "stream",
          "text": [
            "[[11.13641719  2.99142327]\n",
            " [19.32403633  2.50410205]]\n",
            "[0 0 0 0 1 1 1 1 0 0 1 1 1 0 0 0 0 1 0 1 0 1 1 1 0 0 0 0 0 0]\n"
          ],
          "name": "stdout"
        },
        {
          "output_type": "execute_result",
          "data": {
            "text/plain": [
              "<matplotlib.collections.PathCollection at 0x7f0dfb6e90f0>"
            ]
          },
          "metadata": {
            "tags": []
          },
          "execution_count": 288
        },
        {
          "output_type": "display_data",
          "data": {
            "image/png": "[encoded data removed]",
            "text/plain": [
              "<Figure size 576x396 with 1 Axes>"
            ]
          },
          "metadata": {
            "tags": []
          }
        }
      ]
    },
    {
      "metadata": {
        "id": "cPnMoZEfF-ys",
        "colab_type": "code",
        "colab": {
          "base_uri": "https://localhost:8080/",
          "height": 570
        },
        "outputId": "b6b1ff5c-7584-400e-a10a-8fc667bd76a3"
      },
      "cell_type": "code",
      "source": [
        "from functools import reduce\n",
        "dfs = [file_read, file2_read, file3_read]\n",
        "print()\n",
        "\n",
        "\n",
        "cleaned_weather_data_all = reduce(lambda left,right: pd.merge(left,right,on=[\"City\"]), dfs)\n",
        "print(cleaned_weather_data)"
      ],
      "execution_count": 289,
      "outputs": [
        {
          "output_type": "stream",
          "text": [
            "\n",
            "             City  Temperature  Wind_Speed\n",
            "0       Vancouver    10.713083    2.432555\n",
            "1        Portland    11.900815    2.018074\n",
            "2   San Francisco    15.007814    2.786311\n",
            "3         Seattle    11.324745    2.102703\n",
            "4     Los Angeles    17.693049    1.222152\n",
            "5       San Diego    17.066553    1.750816\n",
            "6       Las Vegas    19.328336    2.458867\n",
            "7         Phoenix    22.383997    1.904027\n",
            "8     Albuquerque    12.520452    2.762025\n",
            "9          Denver     9.743255    2.437485\n",
            "10    San Antonio    20.681384    3.024511\n",
            "11         Dallas    19.293476    3.629409\n",
            "12        Houston    21.094262    2.959711\n",
            "13    Kansas City    13.601501    3.421144\n",
            "14    Minneapolis     7.671257    3.376623\n",
            "15    Saint Louis    13.629269    3.036170\n",
            "16        Chicago    10.304590    3.752774\n",
            "17      Nashville    15.515358    2.420536\n",
            "18   Indianapolis    11.727357    3.216278\n",
            "19        Atlanta    16.708497    2.227171\n",
            "20        Detroit     9.912837    3.162439\n",
            "21   Jacksonville    21.244775    2.833600\n",
            "22      Charlotte    15.847053    2.382363\n",
            "23          Miami    25.031696    3.236062\n",
            "24     Pittsburgh    10.999780    2.496207\n",
            "25        Toronto     8.868732    3.815526\n",
            "26   Philadelphia    12.301452    2.620923\n",
            "27       New York    12.250755    3.210561\n",
            "28       Montreal     7.282352    3.818249\n",
            "29         Boston    10.695464    3.379572\n"
          ],
          "name": "stdout"
        }
      ]
    },
    {
      "metadata": {
        "id": "JlybIZnvGJ-q",
        "colab_type": "code",
        "colab": {
          "base_uri": "https://localhost:8080/",
          "height": 138
        },
        "outputId": "7e8b1135-4a86-497a-e5fe-9b6178427a42"
      },
      "cell_type": "code",
      "source": [
        "from sklearn.model_selection import train_test_split\n",
        "\n",
        "input_data = cleaned_weather_data_all.iloc[:,1:]\n",
        "\n",
        "train_set, test_set = train_test_split(input_data,train_size=0.8, test_size=0.2)\n",
        "\n",
        "# we load our  concatenate and prepared data\n",
        "clusters = KMeans(n_clusters=2, init='k-means++', max_iter=500, tol=0.0001).fit(train_set)\n",
        "cl = clusters.predict(test_set)\n",
        "print(cl, test_set)"
      ],
      "execution_count": 290,
      "outputs": [
        {
          "output_type": "stream",
          "text": [
            "[0 1 1 0 1 0]     Sunlight  Temperature  Wind_Speed\n",
            "17  6.183738    15.515358    2.420536\n",
            "3   5.172380    11.324745    2.102703\n",
            "26  5.854206    12.301452    2.620923\n",
            "6   8.839564    19.328336    2.458867\n",
            "16  5.537607    10.304590    3.752774\n",
            "4   7.623842    17.693049    1.222152\n"
          ],
          "name": "stdout"
        }
      ]
    },
    {
      "metadata": {
        "id": "1zJFTI2xGNS5",
        "colab_type": "code",
        "colab": {
          "base_uri": "https://localhost:8080/",
          "height": 416
        },
        "outputId": "2c4c7a1c-e1b0-465f-c4d8-5370fa8da8d1"
      },
      "cell_type": "code",
      "source": [
        "\n",
        "print(clusters.cluster_centers_) \n",
        "print(clusters.labels_)  \n",
        "\n",
        "plt.scatter(train_set[\"Temperature\"], train_set[\"Wind_Speed\"], c=clusters.labels_, cmap='rainbow')  \n",
        "plt.scatter(clusters.cluster_centers_[:,0], clusters.cluster_centers_[:,1], color='black')\n"
      ],
      "execution_count": 291,
      "outputs": [
        {
          "output_type": "stream",
          "text": [
            "[[ 6.33173889 19.927966    2.66085215]\n",
            " [ 5.89451642 11.1016482   3.02461455]]\n",
            "[0 1 1 1 1 1 1 1 0 0 0 1 1 1 0 0 0 1 1 1 0 1 1 0]\n"
          ],
          "name": "stdout"
        },
        {
          "output_type": "execute_result",
          "data": {
            "text/plain": [
              "<matplotlib.collections.PathCollection at 0x7f0dfb6c3f28>"
            ]
          },
          "metadata": {
            "tags": []
          },
          "execution_count": 291
        },
        {
          "output_type": "display_data",
          "data": {
            "image/png": "[encoded data removed]",
            "text/plain": [
              "<Figure size 576x396 with 1 Axes>"
            ]
          },
          "metadata": {
            "tags": []
          }
        }
      ]
    },
    {
      "metadata": {
        "id": "F6r2MD6EHE71",
        "colab_type": "code",
        "colab": {
          "base_uri": "https://localhost:8080/",
          "height": 330
        },
        "outputId": "c1ffa95e-c564-4feb-9913-915e6a63cd06"
      },
      "cell_type": "code",
      "source": [
        "from mpl_toolkits.mplot3d import Axes3D\n",
        "import matplotlib.pyplot as plt\n",
        "\n",
        "\n",
        "\n",
        "fig = plt.figure()\n",
        "ax = fig.add_subplot(111, projection='3d')\n",
        "\n",
        "\n",
        "ax.scatter(train_set[\"Temperature\"], train_set[\"Wind_Speed\"], train_set[\"Sunlight\"], c=clusters.labels_, cmap='rainbow')\n",
        "ax.scatter(clusters.cluster_centers_[:,0] ,clusters.cluster_centers_[:,1], clusters.cluster_centers_[:,2], color='black')\n",
        "ax.set_xlabel('Temperature')\n",
        "ax.set_ylabel('Wind Speed')\n",
        "ax.set_zlabel('Sunlight')\n",
        "\n",
        "plt.show()"
      ],
      "execution_count": 292,
      "outputs": [
        {
          "output_type": "display_data",
          "data": {
            "image/png": "[encoded data removed]",
            "text/plain": [
              "<Figure size 576x396 with 1 Axes>"
            ]
          },
          "metadata": {
            "tags": []
          }
        }
      ]
    },
    {
      "metadata": {
        "id": "1FsftE-gLXW2",
        "colab_type": "code",
        "colab": {
          "base_uri": "https://localhost:8080/",
          "height": 622
        },
        "outputId": "49e41496-aff1-4a05-afd3-7884f131bed7"
      },
      "cell_type": "code",
      "source": [
        "print(clusters.labels_)\n",
        "print(train_set)\n",
        "\n",
        "print()\n",
        "\n",
        "print(cl)\n",
        "print(test_set)\n",
        "\n",
        "# 0 is for good solar energy\n",
        "# 1 is for good wind turbine energy"
      ],
      "execution_count": 293,
      "outputs": [
        {
          "output_type": "stream",
          "text": [
            "[0 1 1 1 1 1 1 1 0 0 0 1 1 1 0 0 0 1 1 1 0 1 1 0]\n",
            "    Sunlight  Temperature  Wind_Speed\n",
            "10  6.425843    20.681384    3.024511\n",
            "14  5.703599     7.671257    3.376623\n",
            "24  5.646626    10.999780    2.496207\n",
            "15  6.542015    13.629269    3.036170\n",
            "29  5.960166    10.695464    3.379572\n",
            "28  5.139676     7.282352    3.818249\n",
            "0   5.255758    10.713083    2.432555\n",
            "8   7.251484    12.520452    2.762025\n",
            "12  5.526293    21.094262    2.959711\n",
            "21  5.880184    21.244775    2.833600\n",
            "22  6.026406    15.847053    2.382363\n",
            "2   5.787742    15.007814    2.786311\n",
            "13  6.713023    13.601501    3.421144\n",
            "25  5.606770     8.868732    3.815526\n",
            "7   8.419253    22.383997    1.904027\n",
            "23  5.233041    25.031696    3.236062\n",
            "19  6.363000    16.708497    2.227171\n",
            "18  5.857040    11.727357    3.216278\n",
            "20  5.674134     9.912837    3.162439\n",
            "27  5.622042    12.250755    3.210561\n",
            "11  6.548426    19.293476    3.629409\n",
            "9   6.472919     9.743255    2.437485\n",
            "1   5.184750    11.900815    2.018074\n",
            "5   6.563203    17.066553    1.750816\n",
            "\n",
            "[0 1 1 0 1 0]\n",
            "    Sunlight  Temperature  Wind_Speed\n",
            "17  6.183738    15.515358    2.420536\n",
            "3   5.172380    11.324745    2.102703\n",
            "26  5.854206    12.301452    2.620923\n",
            "6   8.839564    19.328336    2.458867\n",
            "16  5.537607    10.304590    3.752774\n",
            "4   7.623842    17.693049    1.222152\n"
          ],
          "name": "stdout"
        }
      ]
    },
    {
      "metadata": {
        "id": "4Sr3mH-QLXsw",
        "colab_type": "code",
        "colab": {
          "base_uri": "https://localhost:8080/",
          "height": 815
        },
        "outputId": "c8d44116-dee1-42d8-8760-7140c0b12efd"
      },
      "cell_type": "code",
      "source": [
        "train_set[\"Result\"] = clusters.labels_\n",
        "print(train_set)\n",
        "\n",
        "print()\n",
        "\n",
        "test_set[\"Result\"] = cl\n",
        "print(test_set)"
      ],
      "execution_count": 297,
      "outputs": [
        {
          "output_type": "stream",
          "text": [
            "    Sunlight  Temperature  Wind_Speed  Result\n",
            "10  6.425843    20.681384    3.024511       0\n",
            "14  5.703599     7.671257    3.376623       1\n",
            "24  5.646626    10.999780    2.496207       1\n",
            "15  6.542015    13.629269    3.036170       1\n",
            "29  5.960166    10.695464    3.379572       1\n",
            "28  5.139676     7.282352    3.818249       1\n",
            "0   5.255758    10.713083    2.432555       1\n",
            "8   7.251484    12.520452    2.762025       1\n",
            "12  5.526293    21.094262    2.959711       0\n",
            "21  5.880184    21.244775    2.833600       0\n",
            "22  6.026406    15.847053    2.382363       0\n",
            "2   5.787742    15.007814    2.786311       1\n",
            "13  6.713023    13.601501    3.421144       1\n",
            "25  5.606770     8.868732    3.815526       1\n",
            "7   8.419253    22.383997    1.904027       0\n",
            "23  5.233041    25.031696    3.236062       0\n",
            "19  6.363000    16.708497    2.227171       0\n",
            "18  5.857040    11.727357    3.216278       1\n",
            "20  5.674134     9.912837    3.162439       1\n",
            "27  5.622042    12.250755    3.210561       1\n",
            "11  6.548426    19.293476    3.629409       0\n",
            "9   6.472919     9.743255    2.437485       1\n",
            "1   5.184750    11.900815    2.018074       1\n",
            "5   6.563203    17.066553    1.750816       0\n",
            "\n",
            "    Sunlight  Temperature  Wind_Speed  Result\n",
            "17  6.183738    15.515358    2.420536       0\n",
            "3   5.172380    11.324745    2.102703       1\n",
            "26  5.854206    12.301452    2.620923       1\n",
            "6   8.839564    19.328336    2.458867       0\n",
            "16  5.537607    10.304590    3.752774       1\n",
            "4   7.623842    17.693049    1.222152       0\n"
          ],
          "name": "stdout"
        },
        {
          "output_type": "stream",
          "text": [
            "/usr/local/lib/python3.6/dist-packages/ipykernel_launcher.py:1: SettingWithCopyWarning: \n",
            "A value is trying to be set on a copy of a slice from a DataFrame.\n",
            "Try using .loc[row_indexer,col_indexer] = value instead\n",
            "\n",
            "See the caveats in the documentation: http://pandas.pydata.org/pandas-docs/stable/indexing.html#indexing-view-versus-copy\n",
            "  \"\"\"Entry point for launching an IPython kernel.\n",
            "/usr/local/lib/python3.6/dist-packages/ipykernel_launcher.py:6: SettingWithCopyWarning: \n",
            "A value is trying to be set on a copy of a slice from a DataFrame.\n",
            "Try using .loc[row_indexer,col_indexer] = value instead\n",
            "\n",
            "See the caveats in the documentation: http://pandas.pydata.org/pandas-docs/stable/indexing.html#indexing-view-versus-copy\n",
            "  \n"
          ],
          "name": "stderr"
        }
      ]
    },
    {
      "metadata": {
        "id": "1SJz5WwOchKj",
        "colab_type": "code",
        "colab": {
          "base_uri": "https://localhost:8080/",
          "height": 553
        },
        "outputId": "e7ff6b0c-0ef0-4f92-c628-7c024752b812"
      },
      "cell_type": "code",
      "source": [
        "final_table = pd.concat([train_set, test_set], ignore_index=False)\n",
        "#print(final_table)\n",
        "\n",
        "final_table.sort_index(inplace = True)\n"
      ],
      "execution_count": 308,
      "outputs": [
        {
          "output_type": "stream",
          "text": [
            "    Sunlight  Temperature  Wind_Speed  Result\n",
            "0   5.255758    10.713083    2.432555       1\n",
            "1   5.184750    11.900815    2.018074       1\n",
            "2   5.787742    15.007814    2.786311       1\n",
            "3   5.172380    11.324745    2.102703       1\n",
            "4   7.623842    17.693049    1.222152       0\n",
            "5   6.563203    17.066553    1.750816       0\n",
            "6   8.839564    19.328336    2.458867       0\n",
            "7   8.419253    22.383997    1.904027       0\n",
            "8   7.251484    12.520452    2.762025       1\n",
            "9   6.472919     9.743255    2.437485       1\n",
            "10  6.425843    20.681384    3.024511       0\n",
            "11  6.548426    19.293476    3.629409       0\n",
            "12  5.526293    21.094262    2.959711       0\n",
            "13  6.713023    13.601501    3.421144       1\n",
            "14  5.703599     7.671257    3.376623       1\n",
            "15  6.542015    13.629269    3.036170       1\n",
            "16  5.537607    10.304590    3.752774       1\n",
            "17  6.183738    15.515358    2.420536       0\n",
            "18  5.857040    11.727357    3.216278       1\n",
            "19  6.363000    16.708497    2.227171       0\n",
            "20  5.674134     9.912837    3.162439       1\n",
            "21  5.880184    21.244775    2.833600       0\n",
            "22  6.026406    15.847053    2.382363       0\n",
            "23  5.233041    25.031696    3.236062       0\n",
            "24  5.646626    10.999780    2.496207       1\n",
            "25  5.606770     8.868732    3.815526       1\n",
            "26  5.854206    12.301452    2.620923       1\n",
            "27  5.622042    12.250755    3.210561       1\n",
            "28  5.139676     7.282352    3.818249       1\n",
            "29  5.960166    10.695464    3.379572       1\n"
          ],
          "name": "stdout"
        }
      ]
    },
    {
      "metadata": {
        "id": "IvnXb035fAx9",
        "colab_type": "code",
        "colab": {
          "base_uri": "https://localhost:8080/",
          "height": 553
        },
        "outputId": "3a6c94d8-9dd4-4236-b28c-2041ffff7744"
      },
      "cell_type": "code",
      "source": [
        "# 0 is for good solar energy\n",
        "# 1 is for good wind turbine energy\n",
        "final_table[\"Result\"] = final_table[\"Result\"].replace({0:\"Solar\", 1:\"Wind\"})\n",
        "print(final_table)"
      ],
      "execution_count": 310,
      "outputs": [
        {
          "output_type": "stream",
          "text": [
            "    Sunlight  Temperature  Wind_Speed Result\n",
            "0   5.255758    10.713083    2.432555   Wind\n",
            "1   5.184750    11.900815    2.018074   Wind\n",
            "2   5.787742    15.007814    2.786311   Wind\n",
            "3   5.172380    11.324745    2.102703   Wind\n",
            "4   7.623842    17.693049    1.222152  Solar\n",
            "5   6.563203    17.066553    1.750816  Solar\n",
            "6   8.839564    19.328336    2.458867  Solar\n",
            "7   8.419253    22.383997    1.904027  Solar\n",
            "8   7.251484    12.520452    2.762025   Wind\n",
            "9   6.472919     9.743255    2.437485   Wind\n",
            "10  6.425843    20.681384    3.024511  Solar\n",
            "11  6.548426    19.293476    3.629409  Solar\n",
            "12  5.526293    21.094262    2.959711  Solar\n",
            "13  6.713023    13.601501    3.421144   Wind\n",
            "14  5.703599     7.671257    3.376623   Wind\n",
            "15  6.542015    13.629269    3.036170   Wind\n",
            "16  5.537607    10.304590    3.752774   Wind\n",
            "17  6.183738    15.515358    2.420536  Solar\n",
            "18  5.857040    11.727357    3.216278   Wind\n",
            "19  6.363000    16.708497    2.227171  Solar\n",
            "20  5.674134     9.912837    3.162439   Wind\n",
            "21  5.880184    21.244775    2.833600  Solar\n",
            "22  6.026406    15.847053    2.382363  Solar\n",
            "23  5.233041    25.031696    3.236062  Solar\n",
            "24  5.646626    10.999780    2.496207   Wind\n",
            "25  5.606770     8.868732    3.815526   Wind\n",
            "26  5.854206    12.301452    2.620923   Wind\n",
            "27  5.622042    12.250755    3.210561   Wind\n",
            "28  5.139676     7.282352    3.818249   Wind\n",
            "29  5.960166    10.695464    3.379572   Wind\n"
          ],
          "name": "stdout"
        }
      ]
    },
    {
      "metadata": {
        "id": "HfKmbHoIgns6",
        "colab_type": "code",
        "colab": {
          "base_uri": "https://localhost:8080/",
          "height": 553
        },
        "outputId": "ff418d62-d7ae-4ae7-d683-03daa7fe8e85"
      },
      "cell_type": "code",
      "source": [
        "final_table[\"City\"] = cleaned_weather_data_all[\"City\"]\n",
        "print(final_table)\n",
        "\n",
        "final_table"
      ],
      "execution_count": 313,
      "outputs": [
        {
          "output_type": "stream",
          "text": [
            "    Sunlight  Temperature  Wind_Speed Result           City\n",
            "0   5.255758    10.713083    2.432555   Wind      Vancouver\n",
            "1   5.184750    11.900815    2.018074   Wind       Portland\n",
            "2   5.787742    15.007814    2.786311   Wind  San Francisco\n",
            "3   5.172380    11.324745    2.102703   Wind        Seattle\n",
            "4   7.623842    17.693049    1.222152  Solar    Los Angeles\n",
            "5   6.563203    17.066553    1.750816  Solar      San Diego\n",
            "6   8.839564    19.328336    2.458867  Solar      Las Vegas\n",
            "7   8.419253    22.383997    1.904027  Solar        Phoenix\n",
            "8   7.251484    12.520452    2.762025   Wind    Albuquerque\n",
            "9   6.472919     9.743255    2.437485   Wind         Denver\n",
            "10  6.425843    20.681384    3.024511  Solar    San Antonio\n",
            "11  6.548426    19.293476    3.629409  Solar         Dallas\n",
            "12  5.526293    21.094262    2.959711  Solar        Houston\n",
            "13  6.713023    13.601501    3.421144   Wind    Kansas City\n",
            "14  5.703599     7.671257    3.376623   Wind    Minneapolis\n",
            "15  6.542015    13.629269    3.036170   Wind    Saint Louis\n",
            "16  5.537607    10.304590    3.752774   Wind        Chicago\n",
            "17  6.183738    15.515358    2.420536  Solar      Nashville\n",
            "18  5.857040    11.727357    3.216278   Wind   Indianapolis\n",
            "19  6.363000    16.708497    2.227171  Solar        Atlanta\n",
            "20  5.674134     9.912837    3.162439   Wind        Detroit\n",
            "21  5.880184    21.244775    2.833600  Solar   Jacksonville\n",
            "22  6.026406    15.847053    2.382363  Solar      Charlotte\n",
            "23  5.233041    25.031696    3.236062  Solar          Miami\n",
            "24  5.646626    10.999780    2.496207   Wind     Pittsburgh\n",
            "25  5.606770     8.868732    3.815526   Wind        Toronto\n",
            "26  5.854206    12.301452    2.620923   Wind   Philadelphia\n",
            "27  5.622042    12.250755    3.210561   Wind       New York\n",
            "28  5.139676     7.282352    3.818249   Wind       Montreal\n",
            "29  5.960166    10.695464    3.379572   Wind         Boston\n"
          ],
          "name": "stdout"
        }
      ]
    },
    {
      "metadata": {
        "id": "oSuQQQoMd2mQ",
        "colab_type": "text"
      },
      "cell_type": "markdown",
      "source": [
        ""
      ]
    }
  ]
}